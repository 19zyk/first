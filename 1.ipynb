{
 "cells": [
  {
   "cell_type": "code",
   "execution_count": 1,
   "id": "46f74cff",
   "metadata": {
    "scrolled": false
   },
   "outputs": [
    {
     "name": "stdout",
     "output_type": "stream",
     "text": [
      "hello world\n"
     ]
    }
   ],
   "source": [
    "print('hello world')"
   ]
  },
  {
   "cell_type": "markdown",
   "id": "16b98798",
   "metadata": {},
   "source": [
    "这是学习的第一步"
   ]
  },
  {
   "cell_type": "markdown",
   "id": "8e5d883e",
   "metadata": {},
   "source": [
    "# 第一步 导入相关库与数据"
   ]
  },
  {
   "cell_type": "code",
   "execution_count": 3,
   "id": "91e499b8",
   "metadata": {},
   "outputs": [],
   "source": [
    "import pandas as pd\n",
    "import matplotlib.pyplot as plt\n",
    "%matplotlib inline"
   ]
  },
  {
   "cell_type": "code",
   "execution_count": 10,
   "id": "822a361d",
   "metadata": {},
   "outputs": [
    {
     "data": {
      "text/html": [
       "<div>\n",
       "<style scoped>\n",
       "    .dataframe tbody tr th:only-of-type {\n",
       "        vertical-align: middle;\n",
       "    }\n",
       "\n",
       "    .dataframe tbody tr th {\n",
       "        vertical-align: top;\n",
       "    }\n",
       "\n",
       "    .dataframe thead th {\n",
       "        text-align: right;\n",
       "    }\n",
       "</style>\n",
       "<table border=\"1\" class=\"dataframe\">\n",
       "  <thead>\n",
       "    <tr style=\"text-align: right;\">\n",
       "      <th></th>\n",
       "      <th>Y</th>\n",
       "      <th>X1</th>\n",
       "      <th>X2</th>\n",
       "      <th>X3</th>\n",
       "      <th>X4</th>\n",
       "      <th>X5</th>\n",
       "      <th>X6</th>\n",
       "      <th>X7</th>\n",
       "      <th>X8</th>\n",
       "      <th>X9</th>\n",
       "      <th>X10</th>\n",
       "      <th>X11</th>\n",
       "      <th>X12</th>\n",
       "      <th>X13</th>\n",
       "    </tr>\n",
       "  </thead>\n",
       "  <tbody>\n",
       "    <tr>\n",
       "      <th>0</th>\n",
       "      <td>10.68</td>\n",
       "      <td>0.55</td>\n",
       "      <td>10.09</td>\n",
       "      <td>4.29</td>\n",
       "      <td>6.47</td>\n",
       "      <td>3.20</td>\n",
       "      <td>4.88</td>\n",
       "      <td>5.32</td>\n",
       "      <td>4.45</td>\n",
       "      <td>4.23</td>\n",
       "      <td>8.93</td>\n",
       "      <td>3.92</td>\n",
       "      <td>4.03</td>\n",
       "      <td>6.61</td>\n",
       "    </tr>\n",
       "    <tr>\n",
       "      <th>1</th>\n",
       "      <td>10.78</td>\n",
       "      <td>0.52</td>\n",
       "      <td>10.24</td>\n",
       "      <td>4.30</td>\n",
       "      <td>6.53</td>\n",
       "      <td>3.02</td>\n",
       "      <td>5.16</td>\n",
       "      <td>5.34</td>\n",
       "      <td>4.39</td>\n",
       "      <td>4.24</td>\n",
       "      <td>8.94</td>\n",
       "      <td>3.95</td>\n",
       "      <td>4.03</td>\n",
       "      <td>6.61</td>\n",
       "    </tr>\n",
       "    <tr>\n",
       "      <th>2</th>\n",
       "      <td>10.89</td>\n",
       "      <td>0.49</td>\n",
       "      <td>10.43</td>\n",
       "      <td>4.29</td>\n",
       "      <td>6.61</td>\n",
       "      <td>3.11</td>\n",
       "      <td>5.39</td>\n",
       "      <td>5.31</td>\n",
       "      <td>4.51</td>\n",
       "      <td>4.26</td>\n",
       "      <td>8.95</td>\n",
       "      <td>3.97</td>\n",
       "      <td>4.02</td>\n",
       "      <td>6.62</td>\n",
       "    </tr>\n",
       "    <tr>\n",
       "      <th>3</th>\n",
       "      <td>10.90</td>\n",
       "      <td>0.44</td>\n",
       "      <td>10.60</td>\n",
       "      <td>4.29</td>\n",
       "      <td>6.72</td>\n",
       "      <td>3.18</td>\n",
       "      <td>5.53</td>\n",
       "      <td>5.18</td>\n",
       "      <td>4.55</td>\n",
       "      <td>4.29</td>\n",
       "      <td>8.96</td>\n",
       "      <td>3.99</td>\n",
       "      <td>4.01</td>\n",
       "      <td>6.63</td>\n",
       "    </tr>\n",
       "    <tr>\n",
       "      <th>4</th>\n",
       "      <td>10.95</td>\n",
       "      <td>0.42</td>\n",
       "      <td>10.70</td>\n",
       "      <td>4.27</td>\n",
       "      <td>6.75</td>\n",
       "      <td>2.60</td>\n",
       "      <td>5.53</td>\n",
       "      <td>4.94</td>\n",
       "      <td>3.48</td>\n",
       "      <td>4.29</td>\n",
       "      <td>8.96</td>\n",
       "      <td>4.02</td>\n",
       "      <td>3.99</td>\n",
       "      <td>6.63</td>\n",
       "    </tr>\n",
       "    <tr>\n",
       "      <th>5</th>\n",
       "      <td>11.06</td>\n",
       "      <td>0.39</td>\n",
       "      <td>10.87</td>\n",
       "      <td>4.27</td>\n",
       "      <td>6.80</td>\n",
       "      <td>3.41</td>\n",
       "      <td>5.65</td>\n",
       "      <td>5.09</td>\n",
       "      <td>4.58</td>\n",
       "      <td>4.30</td>\n",
       "      <td>8.97</td>\n",
       "      <td>4.10</td>\n",
       "      <td>3.97</td>\n",
       "      <td>6.64</td>\n",
       "    </tr>\n",
       "    <tr>\n",
       "      <th>6</th>\n",
       "      <td>11.17</td>\n",
       "      <td>0.37</td>\n",
       "      <td>11.03</td>\n",
       "      <td>4.30</td>\n",
       "      <td>6.80</td>\n",
       "      <td>3.62</td>\n",
       "      <td>5.77</td>\n",
       "      <td>5.05</td>\n",
       "      <td>4.25</td>\n",
       "      <td>4.32</td>\n",
       "      <td>8.99</td>\n",
       "      <td>4.13</td>\n",
       "      <td>3.95</td>\n",
       "      <td>6.66</td>\n",
       "    </tr>\n",
       "    <tr>\n",
       "      <th>7</th>\n",
       "      <td>11.19</td>\n",
       "      <td>0.35</td>\n",
       "      <td>11.11</td>\n",
       "      <td>4.29</td>\n",
       "      <td>6.73</td>\n",
       "      <td>3.10</td>\n",
       "      <td>5.88</td>\n",
       "      <td>4.97</td>\n",
       "      <td>3.95</td>\n",
       "      <td>4.31</td>\n",
       "      <td>9.00</td>\n",
       "      <td>4.14</td>\n",
       "      <td>3.92</td>\n",
       "      <td>6.67</td>\n",
       "    </tr>\n",
       "    <tr>\n",
       "      <th>8</th>\n",
       "      <td>11.26</td>\n",
       "      <td>0.32</td>\n",
       "      <td>11.20</td>\n",
       "      <td>4.14</td>\n",
       "      <td>6.78</td>\n",
       "      <td>3.29</td>\n",
       "      <td>5.81</td>\n",
       "      <td>4.89</td>\n",
       "      <td>4.00</td>\n",
       "      <td>4.30</td>\n",
       "      <td>9.01</td>\n",
       "      <td>4.17</td>\n",
       "      <td>3.89</td>\n",
       "      <td>6.68</td>\n",
       "    </tr>\n",
       "    <tr>\n",
       "      <th>9</th>\n",
       "      <td>11.29</td>\n",
       "      <td>0.30</td>\n",
       "      <td>11.27</td>\n",
       "      <td>4.12</td>\n",
       "      <td>6.83</td>\n",
       "      <td>3.23</td>\n",
       "      <td>5.64</td>\n",
       "      <td>4.85</td>\n",
       "      <td>3.49</td>\n",
       "      <td>4.30</td>\n",
       "      <td>9.02</td>\n",
       "      <td>4.19</td>\n",
       "      <td>3.87</td>\n",
       "      <td>6.65</td>\n",
       "    </tr>\n",
       "  </tbody>\n",
       "</table>\n",
       "</div>"
      ],
      "text/plain": [
       "       Y    X1     X2    X3    X4    X5    X6    X7    X8    X9   X10   X11  \\\n",
       "0  10.68  0.55  10.09  4.29  6.47  3.20  4.88  5.32  4.45  4.23  8.93  3.92   \n",
       "1  10.78  0.52  10.24  4.30  6.53  3.02  5.16  5.34  4.39  4.24  8.94  3.95   \n",
       "2  10.89  0.49  10.43  4.29  6.61  3.11  5.39  5.31  4.51  4.26  8.95  3.97   \n",
       "3  10.90  0.44  10.60  4.29  6.72  3.18  5.53  5.18  4.55  4.29  8.96  3.99   \n",
       "4  10.95  0.42  10.70  4.27  6.75  2.60  5.53  4.94  3.48  4.29  8.96  4.02   \n",
       "5  11.06  0.39  10.87  4.27  6.80  3.41  5.65  5.09  4.58  4.30  8.97  4.10   \n",
       "6  11.17  0.37  11.03  4.30  6.80  3.62  5.77  5.05  4.25  4.32  8.99  4.13   \n",
       "7  11.19  0.35  11.11  4.29  6.73  3.10  5.88  4.97  3.95  4.31  9.00  4.14   \n",
       "8  11.26  0.32  11.20  4.14  6.78  3.29  5.81  4.89  4.00  4.30  9.01  4.17   \n",
       "9  11.29  0.30  11.27  4.12  6.83  3.23  5.64  4.85  3.49  4.30  9.02  4.19   \n",
       "\n",
       "    X12   X13  \n",
       "0  4.03  6.61  \n",
       "1  4.03  6.61  \n",
       "2  4.02  6.62  \n",
       "3  4.01  6.63  \n",
       "4  3.99  6.63  \n",
       "5  3.97  6.64  \n",
       "6  3.95  6.66  \n",
       "7  3.92  6.67  \n",
       "8  3.89  6.68  \n",
       "9  3.87  6.65  "
      ]
     },
     "execution_count": 10,
     "metadata": {},
     "output_type": "execute_result"
    }
   ],
   "source": [
    "dataset = pd.read_csv('./江苏省13种变量.csv')\n",
    "dataset.head(10)"
   ]
  },
  {
   "cell_type": "markdown",
   "id": "7e0dafb5",
   "metadata": {},
   "source": [
    "# 第二步 调用常用函数简要分析数据"
   ]
  },
  {
   "cell_type": "code",
   "execution_count": 9,
   "id": "d4cbdaa0",
   "metadata": {},
   "outputs": [
    {
     "data": {
      "text/plain": [
       "pandas.core.frame.DataFrame"
      ]
     },
     "execution_count": 9,
     "metadata": {},
     "output_type": "execute_result"
    }
   ],
   "source": [
    "type(dataset)"
   ]
  },
  {
   "cell_type": "code",
   "execution_count": 11,
   "id": "69dd5d90",
   "metadata": {},
   "outputs": [
    {
     "data": {
      "text/plain": [
       "(14, 14)"
      ]
     },
     "execution_count": 11,
     "metadata": {},
     "output_type": "execute_result"
    }
   ],
   "source": [
    "dataset.shape"
   ]
  },
  {
   "cell_type": "code",
   "execution_count": 13,
   "id": "f241419e",
   "metadata": {},
   "outputs": [
    {
     "data": {
      "text/plain": [
       "Index(['Y', 'X1', 'X2', 'X3', 'X4', 'X5', 'X6', 'X7', 'X8', 'X9', 'X10', 'X11',\n",
       "       'X12', 'X13'],\n",
       "      dtype='object')"
      ]
     },
     "execution_count": 13,
     "metadata": {},
     "output_type": "execute_result"
    }
   ],
   "source": [
    "dataset.columns"
   ]
  },
  {
   "cell_type": "code",
   "execution_count": 14,
   "id": "e2c408bb",
   "metadata": {},
   "outputs": [
    {
     "name": "stdout",
     "output_type": "stream",
     "text": [
      "<class 'pandas.core.frame.DataFrame'>\n",
      "RangeIndex: 14 entries, 0 to 13\n",
      "Data columns (total 14 columns):\n",
      " #   Column  Non-Null Count  Dtype  \n",
      "---  ------  --------------  -----  \n",
      " 0   Y       14 non-null     float64\n",
      " 1   X1      14 non-null     float64\n",
      " 2   X2      14 non-null     float64\n",
      " 3   X3      14 non-null     float64\n",
      " 4   X4      14 non-null     float64\n",
      " 5   X5      14 non-null     float64\n",
      " 6   X6      14 non-null     float64\n",
      " 7   X7      14 non-null     float64\n",
      " 8   X8      14 non-null     float64\n",
      " 9   X9      14 non-null     float64\n",
      " 10  X10     14 non-null     float64\n",
      " 11  X11     14 non-null     float64\n",
      " 12  X12     14 non-null     float64\n",
      " 13  X13     14 non-null     float64\n",
      "dtypes: float64(14)\n",
      "memory usage: 1.7 KB\n"
     ]
    }
   ],
   "source": [
    "dataset.info()"
   ]
  },
  {
   "cell_type": "code",
   "execution_count": 15,
   "id": "955b3f9a",
   "metadata": {},
   "outputs": [
    {
     "data": {
      "text/html": [
       "<div>\n",
       "<style scoped>\n",
       "    .dataframe tbody tr th:only-of-type {\n",
       "        vertical-align: middle;\n",
       "    }\n",
       "\n",
       "    .dataframe tbody tr th {\n",
       "        vertical-align: top;\n",
       "    }\n",
       "\n",
       "    .dataframe thead th {\n",
       "        text-align: right;\n",
       "    }\n",
       "</style>\n",
       "<table border=\"1\" class=\"dataframe\">\n",
       "  <thead>\n",
       "    <tr style=\"text-align: right;\">\n",
       "      <th></th>\n",
       "      <th>Y</th>\n",
       "      <th>X1</th>\n",
       "      <th>X2</th>\n",
       "      <th>X3</th>\n",
       "      <th>X4</th>\n",
       "      <th>X5</th>\n",
       "      <th>X6</th>\n",
       "      <th>X7</th>\n",
       "      <th>X8</th>\n",
       "      <th>X9</th>\n",
       "      <th>X10</th>\n",
       "      <th>X11</th>\n",
       "      <th>X12</th>\n",
       "      <th>X13</th>\n",
       "    </tr>\n",
       "  </thead>\n",
       "  <tbody>\n",
       "    <tr>\n",
       "      <th>count</th>\n",
       "      <td>14.000000</td>\n",
       "      <td>14.000000</td>\n",
       "      <td>14.000000</td>\n",
       "      <td>14.000000</td>\n",
       "      <td>14.000000</td>\n",
       "      <td>14.000000</td>\n",
       "      <td>14.000000</td>\n",
       "      <td>14.000000</td>\n",
       "      <td>14.000000</td>\n",
       "      <td>14.000000</td>\n",
       "      <td>14.000000</td>\n",
       "      <td>14.000000</td>\n",
       "      <td>14.000000</td>\n",
       "      <td>14.000000</td>\n",
       "    </tr>\n",
       "    <tr>\n",
       "      <th>mean</th>\n",
       "      <td>11.090000</td>\n",
       "      <td>0.368571</td>\n",
       "      <td>10.962857</td>\n",
       "      <td>4.202143</td>\n",
       "      <td>6.767857</td>\n",
       "      <td>3.177143</td>\n",
       "      <td>5.521429</td>\n",
       "      <td>5.000000</td>\n",
       "      <td>3.894286</td>\n",
       "      <td>4.292143</td>\n",
       "      <td>8.990714</td>\n",
       "      <td>4.110000</td>\n",
       "      <td>3.926429</td>\n",
       "      <td>6.646429</td>\n",
       "    </tr>\n",
       "    <tr>\n",
       "      <th>std</th>\n",
       "      <td>0.211478</td>\n",
       "      <td>0.104650</td>\n",
       "      <td>0.486770</td>\n",
       "      <td>0.106061</td>\n",
       "      <td>0.150342</td>\n",
       "      <td>0.232393</td>\n",
       "      <td>0.258036</td>\n",
       "      <td>0.218456</td>\n",
       "      <td>0.565913</td>\n",
       "      <td>0.033782</td>\n",
       "      <td>0.038723</td>\n",
       "      <td>0.119228</td>\n",
       "      <td>0.084363</td>\n",
       "      <td>0.023405</td>\n",
       "    </tr>\n",
       "    <tr>\n",
       "      <th>min</th>\n",
       "      <td>10.680000</td>\n",
       "      <td>0.220000</td>\n",
       "      <td>10.090000</td>\n",
       "      <td>4.020000</td>\n",
       "      <td>6.470000</td>\n",
       "      <td>2.600000</td>\n",
       "      <td>4.880000</td>\n",
       "      <td>4.720000</td>\n",
       "      <td>3.130000</td>\n",
       "      <td>4.230000</td>\n",
       "      <td>8.930000</td>\n",
       "      <td>3.920000</td>\n",
       "      <td>3.810000</td>\n",
       "      <td>6.610000</td>\n",
       "    </tr>\n",
       "    <tr>\n",
       "      <th>25%</th>\n",
       "      <td>10.912500</td>\n",
       "      <td>0.285000</td>\n",
       "      <td>10.625000</td>\n",
       "      <td>4.105000</td>\n",
       "      <td>6.722500</td>\n",
       "      <td>3.102500</td>\n",
       "      <td>5.492500</td>\n",
       "      <td>4.812500</td>\n",
       "      <td>3.360000</td>\n",
       "      <td>4.280000</td>\n",
       "      <td>8.960000</td>\n",
       "      <td>3.997500</td>\n",
       "      <td>3.855000</td>\n",
       "      <td>6.630000</td>\n",
       "    </tr>\n",
       "    <tr>\n",
       "      <th>50%</th>\n",
       "      <td>11.180000</td>\n",
       "      <td>0.360000</td>\n",
       "      <td>11.070000</td>\n",
       "      <td>4.270000</td>\n",
       "      <td>6.790000</td>\n",
       "      <td>3.190000</td>\n",
       "      <td>5.530000</td>\n",
       "      <td>4.955000</td>\n",
       "      <td>3.975000</td>\n",
       "      <td>4.295000</td>\n",
       "      <td>8.995000</td>\n",
       "      <td>4.135000</td>\n",
       "      <td>3.935000</td>\n",
       "      <td>6.650000</td>\n",
       "    </tr>\n",
       "    <tr>\n",
       "      <th>75%</th>\n",
       "      <td>11.260000</td>\n",
       "      <td>0.435000</td>\n",
       "      <td>11.337500</td>\n",
       "      <td>4.290000</td>\n",
       "      <td>6.867500</td>\n",
       "      <td>3.275000</td>\n",
       "      <td>5.647500</td>\n",
       "      <td>5.157500</td>\n",
       "      <td>4.435000</td>\n",
       "      <td>4.307500</td>\n",
       "      <td>9.027500</td>\n",
       "      <td>4.205000</td>\n",
       "      <td>4.005000</td>\n",
       "      <td>6.667500</td>\n",
       "    </tr>\n",
       "    <tr>\n",
       "      <th>max</th>\n",
       "      <td>11.310000</td>\n",
       "      <td>0.550000</td>\n",
       "      <td>11.610000</td>\n",
       "      <td>4.300000</td>\n",
       "      <td>6.970000</td>\n",
       "      <td>3.620000</td>\n",
       "      <td>5.880000</td>\n",
       "      <td>5.340000</td>\n",
       "      <td>4.580000</td>\n",
       "      <td>4.350000</td>\n",
       "      <td>9.040000</td>\n",
       "      <td>4.270000</td>\n",
       "      <td>4.030000</td>\n",
       "      <td>6.680000</td>\n",
       "    </tr>\n",
       "  </tbody>\n",
       "</table>\n",
       "</div>"
      ],
      "text/plain": [
       "               Y         X1         X2         X3         X4         X5  \\\n",
       "count  14.000000  14.000000  14.000000  14.000000  14.000000  14.000000   \n",
       "mean   11.090000   0.368571  10.962857   4.202143   6.767857   3.177143   \n",
       "std     0.211478   0.104650   0.486770   0.106061   0.150342   0.232393   \n",
       "min    10.680000   0.220000  10.090000   4.020000   6.470000   2.600000   \n",
       "25%    10.912500   0.285000  10.625000   4.105000   6.722500   3.102500   \n",
       "50%    11.180000   0.360000  11.070000   4.270000   6.790000   3.190000   \n",
       "75%    11.260000   0.435000  11.337500   4.290000   6.867500   3.275000   \n",
       "max    11.310000   0.550000  11.610000   4.300000   6.970000   3.620000   \n",
       "\n",
       "              X6         X7         X8         X9        X10        X11  \\\n",
       "count  14.000000  14.000000  14.000000  14.000000  14.000000  14.000000   \n",
       "mean    5.521429   5.000000   3.894286   4.292143   8.990714   4.110000   \n",
       "std     0.258036   0.218456   0.565913   0.033782   0.038723   0.119228   \n",
       "min     4.880000   4.720000   3.130000   4.230000   8.930000   3.920000   \n",
       "25%     5.492500   4.812500   3.360000   4.280000   8.960000   3.997500   \n",
       "50%     5.530000   4.955000   3.975000   4.295000   8.995000   4.135000   \n",
       "75%     5.647500   5.157500   4.435000   4.307500   9.027500   4.205000   \n",
       "max     5.880000   5.340000   4.580000   4.350000   9.040000   4.270000   \n",
       "\n",
       "             X12        X13  \n",
       "count  14.000000  14.000000  \n",
       "mean    3.926429   6.646429  \n",
       "std     0.084363   0.023405  \n",
       "min     3.810000   6.610000  \n",
       "25%     3.855000   6.630000  \n",
       "50%     3.935000   6.650000  \n",
       "75%     4.005000   6.667500  \n",
       "max     4.030000   6.680000  "
      ]
     },
     "execution_count": 15,
     "metadata": {},
     "output_type": "execute_result"
    }
   ],
   "source": [
    "dataset.describe()"
   ]
  },
  {
   "cell_type": "markdown",
   "id": "def42a08",
   "metadata": {},
   "source": [
    "# 第三步 完成简单数据分析，下面将二维数组转化为一维数组"
   ]
  },
  {
   "cell_type": "code",
   "execution_count": 16,
   "id": "ce96dd65",
   "metadata": {},
   "outputs": [],
   "source": [
    "feature_Y = ['Y']\n",
    "feature_X1 = ['X1']\n",
    "feature_X2 = ['X2']\n",
    "feature_X3 = ['X3']\n",
    "feature_X4 = ['X4']\n",
    "feature_X5 = ['X5']\n",
    "feature_X6 = ['X6']\n",
    "feature_X7 = ['X7']\n",
    "feature_X8 = ['X8']\n",
    "feature_X9 = ['X9']\n",
    "feature_X10 = ['X10']\n",
    "feature_X11 = ['X11']\n",
    "feature_X12 = ['X12']\n",
    "feature_X13 = ['X13']"
   ]
  },
  {
   "cell_type": "code",
   "execution_count": 17,
   "id": "36a1e2b4",
   "metadata": {},
   "outputs": [],
   "source": [
    "value_Y = dataset[feature_Y]\n",
    "value_X1 = dataset[feature_X1]\n",
    "value_X2 = dataset[feature_X2]\n",
    "value_X3 = dataset[feature_X3]\n",
    "value_X4 = dataset[feature_X4]\n",
    "value_X5 = dataset[feature_X5]\n",
    "value_X6 = dataset[feature_X6]\n",
    "value_X7 = dataset[feature_X7]\n",
    "value_X8 = dataset[feature_X8]\n",
    "value_X9 = dataset[feature_X9]\n",
    "value_X10 = dataset[feature_X10]\n",
    "value_X11 = dataset[feature_X11]\n",
    "value_X12 = dataset[feature_X12]\n",
    "value_X13 = dataset[feature_X13]"
   ]
  },
  {
   "cell_type": "code",
   "execution_count": 18,
   "id": "9d42ff23",
   "metadata": {},
   "outputs": [
    {
     "data": {
      "text/html": [
       "<div>\n",
       "<style scoped>\n",
       "    .dataframe tbody tr th:only-of-type {\n",
       "        vertical-align: middle;\n",
       "    }\n",
       "\n",
       "    .dataframe tbody tr th {\n",
       "        vertical-align: top;\n",
       "    }\n",
       "\n",
       "    .dataframe thead th {\n",
       "        text-align: right;\n",
       "    }\n",
       "</style>\n",
       "<table border=\"1\" class=\"dataframe\">\n",
       "  <thead>\n",
       "    <tr style=\"text-align: right;\">\n",
       "      <th></th>\n",
       "      <th>Y</th>\n",
       "    </tr>\n",
       "  </thead>\n",
       "  <tbody>\n",
       "    <tr>\n",
       "      <th>0</th>\n",
       "      <td>10.68</td>\n",
       "    </tr>\n",
       "    <tr>\n",
       "      <th>1</th>\n",
       "      <td>10.78</td>\n",
       "    </tr>\n",
       "    <tr>\n",
       "      <th>2</th>\n",
       "      <td>10.89</td>\n",
       "    </tr>\n",
       "    <tr>\n",
       "      <th>3</th>\n",
       "      <td>10.90</td>\n",
       "    </tr>\n",
       "    <tr>\n",
       "      <th>4</th>\n",
       "      <td>10.95</td>\n",
       "    </tr>\n",
       "    <tr>\n",
       "      <th>5</th>\n",
       "      <td>11.06</td>\n",
       "    </tr>\n",
       "    <tr>\n",
       "      <th>6</th>\n",
       "      <td>11.17</td>\n",
       "    </tr>\n",
       "    <tr>\n",
       "      <th>7</th>\n",
       "      <td>11.19</td>\n",
       "    </tr>\n",
       "    <tr>\n",
       "      <th>8</th>\n",
       "      <td>11.26</td>\n",
       "    </tr>\n",
       "    <tr>\n",
       "      <th>9</th>\n",
       "      <td>11.29</td>\n",
       "    </tr>\n",
       "    <tr>\n",
       "      <th>10</th>\n",
       "      <td>11.26</td>\n",
       "    </tr>\n",
       "    <tr>\n",
       "      <th>11</th>\n",
       "      <td>11.31</td>\n",
       "    </tr>\n",
       "    <tr>\n",
       "      <th>12</th>\n",
       "      <td>11.27</td>\n",
       "    </tr>\n",
       "    <tr>\n",
       "      <th>13</th>\n",
       "      <td>11.25</td>\n",
       "    </tr>\n",
       "  </tbody>\n",
       "</table>\n",
       "</div>"
      ],
      "text/plain": [
       "        Y\n",
       "0   10.68\n",
       "1   10.78\n",
       "2   10.89\n",
       "3   10.90\n",
       "4   10.95\n",
       "5   11.06\n",
       "6   11.17\n",
       "7   11.19\n",
       "8   11.26\n",
       "9   11.29\n",
       "10  11.26\n",
       "11  11.31\n",
       "12  11.27\n",
       "13  11.25"
      ]
     },
     "execution_count": 18,
     "metadata": {},
     "output_type": "execute_result"
    }
   ],
   "source": [
    "value_Y"
   ]
  },
  {
   "cell_type": "code",
   "execution_count": 21,
   "id": "ddd9c930",
   "metadata": {},
   "outputs": [],
   "source": [
    "Y = value_Y.values\n",
    "X1 = value_X1.values\n",
    "X2 = value_X2.values\n",
    "X3 = value_X3.values\n",
    "X4 = value_X4.values\n",
    "X5 = value_X5.values\n",
    "X6 = value_X6.values\n",
    "X7 = value_X7.values\n",
    "X8 = value_X8.values\n",
    "X9 = value_X9.values\n",
    "X10 = value_X10.values\n",
    "X11 = value_X11.values\n",
    "X12 = value_X12.values\n",
    "X13 = value_X13.values\n"
   ]
  },
  {
   "cell_type": "code",
   "execution_count": 22,
   "id": "c6c66e40",
   "metadata": {},
   "outputs": [
    {
     "data": {
      "text/plain": [
       "array([[6.61],\n",
       "       [6.61],\n",
       "       [6.62],\n",
       "       [6.63],\n",
       "       [6.63],\n",
       "       [6.64],\n",
       "       [6.66],\n",
       "       [6.67],\n",
       "       [6.68],\n",
       "       [6.65],\n",
       "       [6.65],\n",
       "       [6.66],\n",
       "       [6.67],\n",
       "       [6.67]])"
      ]
     },
     "execution_count": 22,
     "metadata": {},
     "output_type": "execute_result"
    }
   ],
   "source": [
    "X13"
   ]
  },
  {
   "cell_type": "markdown",
   "id": "9834a3ba",
   "metadata": {},
   "source": [
    "# 第四步 建立模型 拆分数据，将约80%数据作为训练集，将约20%数据作为测试机"
   ]
  },
  {
   "cell_type": "code",
   "execution_count": 34,
   "id": "5f66454e",
   "metadata": {},
   "outputs": [],
   "source": [
    "from sklearn.model_selection import train_test_split  # 这里是引用了交叉验证\n",
    "from sklearn.linear_model import LinearRegression  # 线性回归\n",
    "X = dataset.loc[:,('X1','X2','X3','X4','X5','X6','X7','X8','X9','X10','X11','X12','X13',)]\n",
    "y = dataset.loc[:,'Y']\n",
    "X_train,X_test,y_train,y_test = train_test_split(X,y,test_size = 1/5,random_state = 0)"
   ]
  },
  {
   "cell_type": "code",
   "execution_count": 37,
   "id": "564f6b3e",
   "metadata": {},
   "outputs": [
    {
     "name": "stdout",
     "output_type": "stream",
     "text": [
      "模型权重:\n",
      "[ 1.76653684  0.35799979 -1.30238764 -0.60197519 -0.12090479  0.45781413\n",
      " -0.45168516  0.23808767 -1.37624621  1.34899584  0.73597248 -0.84266321\n",
      " -1.55377266]\n",
      "模型截距:\n",
      "19.630793134020003\n"
     ]
    }
   ],
   "source": [
    "regressor = LinearRegression()\n",
    "model = regressor.fit(X_train,y_train)\n",
    "print('模型权重:')\n",
    "print(regressor.coef_)\n",
    "# 训练后模型截距\n",
    "print('模型截距:')\n",
    "print(regressor.intercept_)"
   ]
  },
  {
   "cell_type": "markdown",
   "id": "17334c72",
   "metadata": {},
   "source": [
    "# 对预测集与训练集进行比对"
   ]
  },
  {
   "cell_type": "code",
   "execution_count": 40,
   "id": "b21d5b0a",
   "metadata": {},
   "outputs": [
    {
     "name": "stdout",
     "output_type": "stream",
     "text": [
      "RMSE by hand: 0.12242895252766897\n"
     ]
    }
   ],
   "source": [
    "import numpy as np\n",
    "y_pred = regressor.predict(X_test)\n",
    "sum_mean = 0\n",
    "for i in range(len(y_pred)):\n",
    "    sum_mean += (y_pred[i] - y_test.values[i]) ** 2\n",
    "sum_erro = np.sqrt(sum_mean /len(y_pred)) \n",
    "print (\"RMSE by hand:\", sum_erro)\n",
    "#手动计算均方差"
   ]
  },
  {
   "cell_type": "code",
   "execution_count": 44,
   "id": "f45c7870",
   "metadata": {},
   "outputs": [
    {
     "data": {
      "image/png": "[encoded data removed]",
      "text/plain": [
       "<Figure size 432x288 with 1 Axes>"
      ]
     },
     "metadata": {
      "needs_background": "light"
     },
     "output_type": "display_data"
    }
   ],
   "source": [
    "plt.figure()\n",
    "plt.plot(range(len(y_pred)), y_pred, 'b', label=\"predict\")\n",
    "plt.plot(range(len(y_pred)), y_test, 'r', label=\"test\")\n",
    "plt.xlabel(\"year\")\n",
    "plt.ylabel('Y')\n",
    "plt.show()\n",
    "# 留下的三个点，进行了检验"
   ]
  },
  {
   "cell_type": "code",
   "execution_count": null,
   "id": "5e002cf1",
   "metadata": {},
   "outputs": [],
   "source": []
  }
 ],
 "metadata": {
  "kernelspec": {
   "display_name": "Python 3 (ipykernel)",
   "language": "python",
   "name": "python3"
  },
  "language_info": {
   "codemirror_mode": {
    "name": "ipython",
    "version": 3
   },
   "file_extension": ".py",
   "mimetype": "text/x-python",
   "name": "python",
   "nbconvert_exporter": "python",
   "pygments_lexer": "ipython3",
   "version": "3.9.6"
  }
 },
 "nbformat": 4,
 "nbformat_minor": 5
}
